{
 "cells": [
  {
   "cell_type": "code",
   "execution_count": 1,
   "id": "762032d9",
   "metadata": {},
   "outputs": [],
   "source": [
    "from concepts import Context\n",
    "import graphviz\n",
    "import os"
   ]
  },
  {
   "cell_type": "code",
   "execution_count": 2,
   "id": "219abbf6",
   "metadata": {},
   "outputs": [],
   "source": [
    "c = Context.fromfile('./resources/fca_data.csv', frmat='csv')"
   ]
  },
  {
   "cell_type": "code",
   "execution_count": 3,
   "id": "557e1027",
   "metadata": {},
   "outputs": [
    {
     "ename": "ExecutableNotFound",
     "evalue": "failed to execute WindowsPath('dot'), make sure the Graphviz executables are on your systems' PATH",
     "output_type": "error",
     "traceback": [
      "\u001b[1;31m---------------------------------------------------------------------------\u001b[0m",
      "\u001b[1;31mFileNotFoundError\u001b[0m                         Traceback (most recent call last)",
      "File \u001b[1;32mc:\\Users\\aless\\AppData\\Local\\Programs\\Python\\Python310\\lib\\site-packages\\graphviz\\backend\\execute.py:81\u001b[0m, in \u001b[0;36mrun_check\u001b[1;34m(cmd, input_lines, encoding, quiet, **kwargs)\u001b[0m\n\u001b[0;32m     80\u001b[0m     \u001b[39melse\u001b[39;00m:\n\u001b[1;32m---> 81\u001b[0m         proc \u001b[39m=\u001b[39m subprocess\u001b[39m.\u001b[39mrun(cmd, \u001b[39m*\u001b[39m\u001b[39m*\u001b[39mkwargs)\n\u001b[0;32m     82\u001b[0m \u001b[39mexcept\u001b[39;00m \u001b[39mOSError\u001b[39;00m \u001b[39mas\u001b[39;00m e:\n",
      "File \u001b[1;32mc:\\Users\\aless\\AppData\\Local\\Programs\\Python\\Python310\\lib\\subprocess.py:501\u001b[0m, in \u001b[0;36mrun\u001b[1;34m(input, capture_output, timeout, check, *popenargs, **kwargs)\u001b[0m\n\u001b[0;32m    499\u001b[0m     kwargs[\u001b[39m'\u001b[39m\u001b[39mstderr\u001b[39m\u001b[39m'\u001b[39m] \u001b[39m=\u001b[39m PIPE\n\u001b[1;32m--> 501\u001b[0m \u001b[39mwith\u001b[39;00m Popen(\u001b[39m*\u001b[39mpopenargs, \u001b[39m*\u001b[39m\u001b[39m*\u001b[39mkwargs) \u001b[39mas\u001b[39;00m process:\n\u001b[0;32m    502\u001b[0m     \u001b[39mtry\u001b[39;00m:\n",
      "File \u001b[1;32mc:\\Users\\aless\\AppData\\Local\\Programs\\Python\\Python310\\lib\\subprocess.py:966\u001b[0m, in \u001b[0;36mPopen.__init__\u001b[1;34m(self, args, bufsize, executable, stdin, stdout, stderr, preexec_fn, close_fds, shell, cwd, env, universal_newlines, startupinfo, creationflags, restore_signals, start_new_session, pass_fds, user, group, extra_groups, encoding, errors, text, umask, pipesize)\u001b[0m\n\u001b[0;32m    963\u001b[0m             \u001b[39mself\u001b[39m\u001b[39m.\u001b[39mstderr \u001b[39m=\u001b[39m io\u001b[39m.\u001b[39mTextIOWrapper(\u001b[39mself\u001b[39m\u001b[39m.\u001b[39mstderr,\n\u001b[0;32m    964\u001b[0m                     encoding\u001b[39m=\u001b[39mencoding, errors\u001b[39m=\u001b[39merrors)\n\u001b[1;32m--> 966\u001b[0m     \u001b[39mself\u001b[39;49m\u001b[39m.\u001b[39;49m_execute_child(args, executable, preexec_fn, close_fds,\n\u001b[0;32m    967\u001b[0m                         pass_fds, cwd, env,\n\u001b[0;32m    968\u001b[0m                         startupinfo, creationflags, shell,\n\u001b[0;32m    969\u001b[0m                         p2cread, p2cwrite,\n\u001b[0;32m    970\u001b[0m                         c2pread, c2pwrite,\n\u001b[0;32m    971\u001b[0m                         errread, errwrite,\n\u001b[0;32m    972\u001b[0m                         restore_signals,\n\u001b[0;32m    973\u001b[0m                         gid, gids, uid, umask,\n\u001b[0;32m    974\u001b[0m                         start_new_session)\n\u001b[0;32m    975\u001b[0m \u001b[39mexcept\u001b[39;00m:\n\u001b[0;32m    976\u001b[0m     \u001b[39m# Cleanup if the child failed starting.\u001b[39;00m\n",
      "File \u001b[1;32mc:\\Users\\aless\\AppData\\Local\\Programs\\Python\\Python310\\lib\\subprocess.py:1435\u001b[0m, in \u001b[0;36mPopen._execute_child\u001b[1;34m(self, args, executable, preexec_fn, close_fds, pass_fds, cwd, env, startupinfo, creationflags, shell, p2cread, p2cwrite, c2pread, c2pwrite, errread, errwrite, unused_restore_signals, unused_gid, unused_gids, unused_uid, unused_umask, unused_start_new_session)\u001b[0m\n\u001b[0;32m   1434\u001b[0m \u001b[39mtry\u001b[39;00m:\n\u001b[1;32m-> 1435\u001b[0m     hp, ht, pid, tid \u001b[39m=\u001b[39m _winapi\u001b[39m.\u001b[39;49mCreateProcess(executable, args,\n\u001b[0;32m   1436\u001b[0m                              \u001b[39m# no special security\u001b[39;49;00m\n\u001b[0;32m   1437\u001b[0m                              \u001b[39mNone\u001b[39;49;00m, \u001b[39mNone\u001b[39;49;00m,\n\u001b[0;32m   1438\u001b[0m                              \u001b[39mint\u001b[39;49m(\u001b[39mnot\u001b[39;49;00m close_fds),\n\u001b[0;32m   1439\u001b[0m                              creationflags,\n\u001b[0;32m   1440\u001b[0m                              env,\n\u001b[0;32m   1441\u001b[0m                              cwd,\n\u001b[0;32m   1442\u001b[0m                              startupinfo)\n\u001b[0;32m   1443\u001b[0m \u001b[39mfinally\u001b[39;00m:\n\u001b[0;32m   1444\u001b[0m     \u001b[39m# Child is launched. Close the parent's copy of those pipe\u001b[39;00m\n\u001b[0;32m   1445\u001b[0m     \u001b[39m# handles that only the child should have open.  You need\u001b[39;00m\n\u001b[1;32m   (...)\u001b[0m\n\u001b[0;32m   1448\u001b[0m     \u001b[39m# pipe will not close when the child process exits and the\u001b[39;00m\n\u001b[0;32m   1449\u001b[0m     \u001b[39m# ReadFile will hang.\u001b[39;00m\n",
      "\u001b[1;31mFileNotFoundError\u001b[0m: [WinError 2] Impossibile trovare il file specificato",
      "\nThe above exception was the direct cause of the following exception:\n",
      "\u001b[1;31mExecutableNotFound\u001b[0m                        Traceback (most recent call last)",
      "\u001b[1;32mc:\\Users\\aless\\Documents\\UNI\\TLN\\Progetto\\Di_Caro\\es8_FCA\\main.ipynb Cell 3\u001b[0m in \u001b[0;36m<module>\u001b[1;34m\u001b[0m\n\u001b[1;32m----> <a href='vscode-notebook-cell:/c%3A/Users/aless/Documents/UNI/TLN/Progetto/Di_Caro/es8_FCA/main.ipynb#W2sZmlsZQ%3D%3D?line=0'>1</a>\u001b[0m c\u001b[39m.\u001b[39;49mlattice\u001b[39m.\u001b[39;49mgraphviz(view\u001b[39m=\u001b[39;49m\u001b[39mTrue\u001b[39;49;00m)\n",
      "File \u001b[1;32mc:\\Users\\aless\\AppData\\Local\\Programs\\Python\\Python310\\lib\\site-packages\\concepts\\lattices.py:454\u001b[0m, in \u001b[0;36mLattice.graphviz\u001b[1;34m(self, filename, directory, render, view, make_object_label, make_property_label, **kwargs)\u001b[0m\n\u001b[0;32m    437\u001b[0m \u001b[39mdef\u001b[39;00m \u001b[39mgraphviz\u001b[39m(\u001b[39mself\u001b[39m, filename\u001b[39m=\u001b[39m\u001b[39mNone\u001b[39;00m, directory\u001b[39m=\u001b[39m\u001b[39mNone\u001b[39;00m, render\u001b[39m=\u001b[39m\u001b[39mFalse\u001b[39;00m, view\u001b[39m=\u001b[39m\u001b[39mFalse\u001b[39;00m,\n\u001b[0;32m    438\u001b[0m              make_object_label\u001b[39m=\u001b[39m\u001b[39m'\u001b[39m\u001b[39m \u001b[39m\u001b[39m'\u001b[39m\u001b[39m.\u001b[39mjoin, make_property_label\u001b[39m=\u001b[39m\u001b[39m'\u001b[39m\u001b[39m \u001b[39m\u001b[39m'\u001b[39m\u001b[39m.\u001b[39mjoin,\n\u001b[0;32m    439\u001b[0m              \u001b[39m*\u001b[39m\u001b[39m*\u001b[39mkwargs):\n\u001b[0;32m    440\u001b[0m     \u001b[39m\"\"\"Return DOT source for visualizing the lattice graph.\u001b[39;00m\n\u001b[0;32m    441\u001b[0m \n\u001b[0;32m    442\u001b[0m \u001b[39m    Args:\u001b[39;00m\n\u001b[1;32m   (...)\u001b[0m\n\u001b[0;32m    452\u001b[0m \u001b[39m        A ``graphviz.Digraph`` instance.\u001b[39;00m\n\u001b[0;32m    453\u001b[0m \u001b[39m    \"\"\"\u001b[39;00m\n\u001b[1;32m--> 454\u001b[0m     \u001b[39mreturn\u001b[39;00m visualize\u001b[39m.\u001b[39mlattice(\u001b[39mself\u001b[39m, filename, directory, render, view,\n\u001b[0;32m    455\u001b[0m                              make_object_label\u001b[39m=\u001b[39mmake_object_label,\n\u001b[0;32m    456\u001b[0m                              make_property_label\u001b[39m=\u001b[39mmake_property_label,\n\u001b[0;32m    457\u001b[0m                              \u001b[39m*\u001b[39m\u001b[39m*\u001b[39mkwargs)\n",
      "File \u001b[1;32mc:\\Users\\aless\\AppData\\Local\\Programs\\Python\\Python310\\lib\\site-packages\\concepts\\visualize.py:49\u001b[0m, in \u001b[0;36mlattice\u001b[1;34m(lattice, filename, directory, render, view, make_object_label, make_property_label, **kwargs)\u001b[0m\n\u001b[0;32m     45\u001b[0m     dot\u001b[39m.\u001b[39medges((name, node_name(c))\n\u001b[0;32m     46\u001b[0m               \u001b[39mfor\u001b[39;00m c \u001b[39min\u001b[39;00m \u001b[39msorted\u001b[39m(concept\u001b[39m.\u001b[39mlower_neighbors, key\u001b[39m=\u001b[39msortkey))\n\u001b[0;32m     48\u001b[0m \u001b[39mif\u001b[39;00m render \u001b[39mor\u001b[39;00m view:\n\u001b[1;32m---> 49\u001b[0m     dot\u001b[39m.\u001b[39;49mrender(view\u001b[39m=\u001b[39;49mview)  \u001b[39m# pragma: no cover\u001b[39;00m\n\u001b[0;32m     50\u001b[0m \u001b[39mreturn\u001b[39;00m dot\n",
      "File \u001b[1;32mc:\\Users\\aless\\AppData\\Local\\Programs\\Python\\Python310\\lib\\site-packages\\graphviz\\_tools.py:171\u001b[0m, in \u001b[0;36mdeprecate_positional_args.<locals>.decorator.<locals>.wrapper\u001b[1;34m(*args, **kwargs)\u001b[0m\n\u001b[0;32m    162\u001b[0m     wanted \u001b[39m=\u001b[39m \u001b[39m'\u001b[39m\u001b[39m, \u001b[39m\u001b[39m'\u001b[39m\u001b[39m.\u001b[39mjoin(\u001b[39mf\u001b[39m\u001b[39m'\u001b[39m\u001b[39m{\u001b[39;00mname\u001b[39m}\u001b[39;00m\u001b[39m=\u001b[39m\u001b[39m{\u001b[39;00mvalue\u001b[39m!r}\u001b[39;00m\u001b[39m'\u001b[39m\n\u001b[0;32m    163\u001b[0m                        \u001b[39mfor\u001b[39;00m name, value \u001b[39min\u001b[39;00m deprecated\u001b[39m.\u001b[39mitems())\n\u001b[0;32m    164\u001b[0m     warnings\u001b[39m.\u001b[39mwarn(\u001b[39mf\u001b[39m\u001b[39m'\u001b[39m\u001b[39mThe signature of \u001b[39m\u001b[39m{\u001b[39;00mfunc\u001b[39m.\u001b[39m\u001b[39m__name__\u001b[39m\u001b[39m}\u001b[39;00m\u001b[39m will be reduced\u001b[39m\u001b[39m'\u001b[39m\n\u001b[0;32m    165\u001b[0m                   \u001b[39mf\u001b[39m\u001b[39m'\u001b[39m\u001b[39m to \u001b[39m\u001b[39m{\u001b[39;00msupported_number\u001b[39m}\u001b[39;00m\u001b[39m positional args\u001b[39m\u001b[39m'\u001b[39m\n\u001b[0;32m    166\u001b[0m                   \u001b[39mf\u001b[39m\u001b[39m'\u001b[39m\u001b[39m \u001b[39m\u001b[39m{\u001b[39;00m\u001b[39mlist\u001b[39m(supported)\u001b[39m}\u001b[39;00m\u001b[39m: pass \u001b[39m\u001b[39m{\u001b[39;00mwanted\u001b[39m}\u001b[39;00m\u001b[39m'\u001b[39m\n\u001b[0;32m    167\u001b[0m                   \u001b[39m'\u001b[39m\u001b[39m as keyword arg(s)\u001b[39m\u001b[39m'\u001b[39m,\n\u001b[0;32m    168\u001b[0m                   stacklevel\u001b[39m=\u001b[39mstacklevel,\n\u001b[0;32m    169\u001b[0m                   category\u001b[39m=\u001b[39mcategory)\n\u001b[1;32m--> 171\u001b[0m \u001b[39mreturn\u001b[39;00m func(\u001b[39m*\u001b[39margs, \u001b[39m*\u001b[39m\u001b[39m*\u001b[39mkwargs)\n",
      "File \u001b[1;32mc:\\Users\\aless\\AppData\\Local\\Programs\\Python\\Python310\\lib\\site-packages\\graphviz\\rendering.py:122\u001b[0m, in \u001b[0;36mRender.render\u001b[1;34m(self, filename, directory, view, cleanup, format, renderer, formatter, neato_no_op, quiet, quiet_view, outfile, engine, raise_if_result_exists, overwrite_source)\u001b[0m\n\u001b[0;32m    118\u001b[0m filepath \u001b[39m=\u001b[39m \u001b[39mself\u001b[39m\u001b[39m.\u001b[39msave(filename, directory\u001b[39m=\u001b[39mdirectory, skip_existing\u001b[39m=\u001b[39m\u001b[39mNone\u001b[39;00m)\n\u001b[0;32m    120\u001b[0m args\u001b[39m.\u001b[39mappend(filepath)\n\u001b[1;32m--> 122\u001b[0m rendered \u001b[39m=\u001b[39m \u001b[39mself\u001b[39m\u001b[39m.\u001b[39m_render(\u001b[39m*\u001b[39margs, \u001b[39m*\u001b[39m\u001b[39m*\u001b[39mkwargs)\n\u001b[0;32m    124\u001b[0m \u001b[39mif\u001b[39;00m cleanup:\n\u001b[0;32m    125\u001b[0m     log\u001b[39m.\u001b[39mdebug(\u001b[39m'\u001b[39m\u001b[39mdelete \u001b[39m\u001b[39m%r\u001b[39;00m\u001b[39m'\u001b[39m, filepath)\n",
      "File \u001b[1;32mc:\\Users\\aless\\AppData\\Local\\Programs\\Python\\Python310\\lib\\site-packages\\graphviz\\_tools.py:171\u001b[0m, in \u001b[0;36mdeprecate_positional_args.<locals>.decorator.<locals>.wrapper\u001b[1;34m(*args, **kwargs)\u001b[0m\n\u001b[0;32m    162\u001b[0m     wanted \u001b[39m=\u001b[39m \u001b[39m'\u001b[39m\u001b[39m, \u001b[39m\u001b[39m'\u001b[39m\u001b[39m.\u001b[39mjoin(\u001b[39mf\u001b[39m\u001b[39m'\u001b[39m\u001b[39m{\u001b[39;00mname\u001b[39m}\u001b[39;00m\u001b[39m=\u001b[39m\u001b[39m{\u001b[39;00mvalue\u001b[39m!r}\u001b[39;00m\u001b[39m'\u001b[39m\n\u001b[0;32m    163\u001b[0m                        \u001b[39mfor\u001b[39;00m name, value \u001b[39min\u001b[39;00m deprecated\u001b[39m.\u001b[39mitems())\n\u001b[0;32m    164\u001b[0m     warnings\u001b[39m.\u001b[39mwarn(\u001b[39mf\u001b[39m\u001b[39m'\u001b[39m\u001b[39mThe signature of \u001b[39m\u001b[39m{\u001b[39;00mfunc\u001b[39m.\u001b[39m\u001b[39m__name__\u001b[39m\u001b[39m}\u001b[39;00m\u001b[39m will be reduced\u001b[39m\u001b[39m'\u001b[39m\n\u001b[0;32m    165\u001b[0m                   \u001b[39mf\u001b[39m\u001b[39m'\u001b[39m\u001b[39m to \u001b[39m\u001b[39m{\u001b[39;00msupported_number\u001b[39m}\u001b[39;00m\u001b[39m positional args\u001b[39m\u001b[39m'\u001b[39m\n\u001b[0;32m    166\u001b[0m                   \u001b[39mf\u001b[39m\u001b[39m'\u001b[39m\u001b[39m \u001b[39m\u001b[39m{\u001b[39;00m\u001b[39mlist\u001b[39m(supported)\u001b[39m}\u001b[39;00m\u001b[39m: pass \u001b[39m\u001b[39m{\u001b[39;00mwanted\u001b[39m}\u001b[39;00m\u001b[39m'\u001b[39m\n\u001b[0;32m    167\u001b[0m                   \u001b[39m'\u001b[39m\u001b[39m as keyword arg(s)\u001b[39m\u001b[39m'\u001b[39m,\n\u001b[0;32m    168\u001b[0m                   stacklevel\u001b[39m=\u001b[39mstacklevel,\n\u001b[0;32m    169\u001b[0m                   category\u001b[39m=\u001b[39mcategory)\n\u001b[1;32m--> 171\u001b[0m \u001b[39mreturn\u001b[39;00m func(\u001b[39m*\u001b[39margs, \u001b[39m*\u001b[39m\u001b[39m*\u001b[39mkwargs)\n",
      "File \u001b[1;32mc:\\Users\\aless\\AppData\\Local\\Programs\\Python\\Python310\\lib\\site-packages\\graphviz\\backend\\rendering.py:324\u001b[0m, in \u001b[0;36mrender\u001b[1;34m(engine, format, filepath, renderer, formatter, neato_no_op, quiet, outfile, raise_if_result_exists, overwrite_filepath)\u001b[0m\n\u001b[0;32m    320\u001b[0m     \u001b[39mraise\u001b[39;00m exceptions\u001b[39m.\u001b[39mFileExistsError(\u001b[39mf\u001b[39m\u001b[39m'\u001b[39m\u001b[39moutput file exists: \u001b[39m\u001b[39m{\u001b[39;00mos\u001b[39m.\u001b[39mfspath(outfile)\u001b[39m!r}\u001b[39;00m\u001b[39m'\u001b[39m)\n\u001b[0;32m    322\u001b[0m cmd \u001b[39m+\u001b[39m\u001b[39m=\u001b[39m args\n\u001b[1;32m--> 324\u001b[0m execute\u001b[39m.\u001b[39;49mrun_check(cmd,\n\u001b[0;32m    325\u001b[0m                   cwd\u001b[39m=\u001b[39;49mfilepath\u001b[39m.\u001b[39;49mparent \u001b[39mif\u001b[39;49;00m filepath\u001b[39m.\u001b[39;49mparent\u001b[39m.\u001b[39;49mparts \u001b[39melse\u001b[39;49;00m \u001b[39mNone\u001b[39;49;00m,\n\u001b[0;32m    326\u001b[0m                   quiet\u001b[39m=\u001b[39;49mquiet,\n\u001b[0;32m    327\u001b[0m                   capture_output\u001b[39m=\u001b[39;49m\u001b[39mTrue\u001b[39;49;00m)\n\u001b[0;32m    329\u001b[0m \u001b[39mreturn\u001b[39;00m os\u001b[39m.\u001b[39mfspath(outfile)\n",
      "File \u001b[1;32mc:\\Users\\aless\\AppData\\Local\\Programs\\Python\\Python310\\lib\\site-packages\\graphviz\\backend\\execute.py:84\u001b[0m, in \u001b[0;36mrun_check\u001b[1;34m(cmd, input_lines, encoding, quiet, **kwargs)\u001b[0m\n\u001b[0;32m     82\u001b[0m \u001b[39mexcept\u001b[39;00m \u001b[39mOSError\u001b[39;00m \u001b[39mas\u001b[39;00m e:\n\u001b[0;32m     83\u001b[0m     \u001b[39mif\u001b[39;00m e\u001b[39m.\u001b[39merrno \u001b[39m==\u001b[39m errno\u001b[39m.\u001b[39mENOENT:\n\u001b[1;32m---> 84\u001b[0m         \u001b[39mraise\u001b[39;00m ExecutableNotFound(cmd) \u001b[39mfrom\u001b[39;00m \u001b[39me\u001b[39;00m\n\u001b[0;32m     85\u001b[0m     \u001b[39mraise\u001b[39;00m\n\u001b[0;32m     87\u001b[0m \u001b[39mif\u001b[39;00m \u001b[39mnot\u001b[39;00m quiet \u001b[39mand\u001b[39;00m proc\u001b[39m.\u001b[39mstderr:\n",
      "\u001b[1;31mExecutableNotFound\u001b[0m: failed to execute WindowsPath('dot'), make sure the Graphviz executables are on your systems' PATH"
     ]
    }
   ],
   "source": [
    "c.lattice.graphviz(view=True)"
   ]
  },
  {
   "cell_type": "code",
   "execution_count": 4,
   "id": "36928330",
   "metadata": {},
   "outputs": [
    {
     "name": "stdout",
     "output_type": "stream",
     "text": [
      "('airplane',) ('Engine', 'Windows', 'Wheels', 'Wings', 'Door', 'Seat', 'Tires', 'Lights', 'Brakes', 'Air Conditioning')\n",
      "('airplane', 'helicopter') ('Engine', 'Windows', 'Wings', 'Door', 'Seat', 'Lights', 'Air Conditioning')\n",
      "('car', 'airplane', 'bus', 'truck', 'van (furgone)') ('Engine', 'Windows', 'Wheels', 'Door', 'Seat', 'Tires', 'Lights', 'Brakes', 'Air Conditioning')\n",
      "('car', 'airplane', 'bus', 'truck', 'tractor', 'van (furgone)') ('Engine', 'Windows', 'Wheels', 'Door', 'Seat', 'Tires', 'Lights', 'Brakes')\n",
      "('car', 'airplane', 'bus', 'motorcycle', 'truck', 'tractor', 'van (furgone)') ('Engine', 'Wheels', 'Seat', 'Tires', 'Lights', 'Brakes')\n",
      "('car', 'airplane', 'bus', 'scooter (monopattino)', 'motorcycle', 'truck', 'tractor', 'van (furgone)') ('Engine', 'Wheels', 'Tires', 'Lights', 'Brakes')\n",
      "('car', 'airplane', 'bus', 'truck', 'subway', 'tram', 'train', 'van (furgone)') ('Engine', 'Windows', 'Wheels', 'Door', 'Seat', 'Lights', 'Brakes', 'Air Conditioning')\n",
      "('car', 'airplane', 'bus', 'truck', 'tractor', 'subway', 'tram', 'train', 'van (furgone)') ('Engine', 'Windows', 'Wheels', 'Door', 'Seat', 'Lights', 'Brakes')\n",
      "('car', 'airplane', 'bus', 'truck', 'subway', 'tram', 'train', 'van (furgone)', 'ship') ('Engine', 'Windows', 'Door', 'Seat', 'Lights', 'Brakes', 'Air Conditioning')\n",
      "('car', 'airplane', 'bus', 'motorcycle', 'truck', 'tractor', 'subway', 'tram', 'train', 'van (furgone)') ('Engine', 'Wheels', 'Seat', 'Lights', 'Brakes')\n",
      "('car', 'airplane', 'bus', 'truck', 'tractor', 'subway', 'tram', 'carriage (carrozza)', 'train', 'van (furgone)') ('Windows', 'Wheels', 'Door', 'Seat')\n",
      "('car', 'airplane', 'bus', 'truck', 'tractor', 'subway', 'tram', 'train', 'van (furgone)', 'ship') ('Engine', 'Windows', 'Door', 'Seat', 'Lights', 'Brakes')\n",
      "('car', 'airplane', 'bus', 'truck', 'subway', 'helicopter', 'tram', 'train', 'van (furgone)', 'ship') ('Engine', 'Windows', 'Door', 'Seat', 'Lights', 'Air Conditioning')\n",
      "('bicycle', 'car', 'airplane', 'bus', 'motorcycle', 'truck', 'tractor', 'subway', 'tram', 'train', 'van (furgone)') ('Wheels', 'Seat', 'Brakes')\n",
      "('car', 'airplane', 'bus', 'scooter (monopattino)', 'motorcycle', 'truck', 'tractor', 'subway', 'tram', 'train', 'van (furgone)') ('Engine', 'Wheels', 'Lights', 'Brakes')\n",
      "('car', 'airplane', 'bus', 'motorcycle', 'truck', 'tractor', 'subway', 'tram', 'train', 'van (furgone)', 'ship') ('Engine', 'Seat', 'Lights', 'Brakes')\n",
      "('car', 'airplane', 'bus', 'truck', 'tractor', 'subway', 'helicopter', 'tram', 'train', 'van (furgone)', 'ship') ('Engine', 'Windows', 'Door', 'Seat', 'Lights')\n",
      "('bicycle', 'car', 'airplane', 'bus', 'motorcycle', 'truck', 'tractor', 'subway', 'tram', 'carriage (carrozza)', 'train', 'van (furgone)') ('Wheels', 'Seat')\n",
      "('car', 'airplane', 'bus', 'scooter (monopattino)', 'motorcycle', 'truck', 'tractor', 'subway', 'tram', 'train', 'van (furgone)', 'ship') ('Engine', 'Lights', 'Brakes')\n",
      "('car', 'airplane', 'bus', 'motorcycle', 'truck', 'tractor', 'subway', 'helicopter', 'tram', 'train', 'van (furgone)', 'ship') ('Engine', 'Seat', 'Lights')\n",
      "('bicycle', 'raft (zattera)', 'car', 'airplane', 'bus', 'motorcycle', 'truck', 'tractor', 'subway', 'tram', 'train', 'van (furgone)', 'ship') ('Seat', 'Brakes')\n",
      "('bicycle', 'car', 'airplane', 'bus', 'scooter (monopattino)', 'motorcycle', 'truck', 'tractor', 'subway', 'tram', 'train', 'van (furgone)', 'rollerblades') ('Wheels', 'Brakes')\n",
      "('car', 'airplane', 'bus', 'scooter (monopattino)', 'motorcycle', 'truck', 'tractor', 'subway', 'helicopter', 'tram', 'train', 'van (furgone)', 'ship') ('Engine', 'Lights')\n",
      "('car', 'airplane', 'bus', 'truck', 'tractor', 'subway', 'aerial tramway (funivia)', 'helicopter', 'tram', 'boat', 'train', 'van (furgone)', 'ship') ('Engine', 'Windows', 'Door', 'Seat')\n",
      "('car', 'airplane', 'bus', 'motorcycle', 'truck', 'tractor', 'subway', 'aerial tramway (funivia)', 'helicopter', 'tram', 'boat', 'train', 'van (furgone)', 'ship') ('Engine', 'Seat')\n",
      "('car', 'airplane', 'bus', 'truck', 'tractor', 'subway', 'aerial tramway (funivia)', 'helicopter', 'tram', 'carriage (carrozza)', 'boat', 'train', 'van (furgone)', 'ship') ('Windows', 'Door', 'Seat')\n",
      "('bicycle', 'raft (zattera)', 'car', 'airplane', 'bus', 'scooter (monopattino)', 'motorcycle', 'truck', 'tractor', 'subway', 'tram', 'train', 'van (furgone)', 'ship', 'rollerblades') ('Brakes',)\n",
      "('bicycle', 'car', 'airplane', 'bus', 'skateboard', 'scooter (monopattino)', 'motorcycle', 'truck', 'tractor', 'subway', 'tram', 'carriage (carrozza)', 'train', 'van (furgone)', 'rollerblades') ('Wheels',)\n",
      "('car', 'airplane', 'bus', 'scooter (monopattino)', 'motorcycle', 'truck', 'tractor', 'subway', 'aerial tramway (funivia)', 'helicopter', 'tram', 'boat', 'train', 'van (furgone)', 'ship') ('Engine',)\n",
      "('bicycle', 'raft (zattera)', 'car', 'airplane', 'bus', 'motorcycle', 'truck', 'tractor', 'subway', 'aerial tramway (funivia)', 'helicopter', 'tram', 'carriage (carrozza)', 'boat', 'train', 'van (furgone)', 'ship') ('Seat',)\n",
      "('bicycle', 'raft (zattera)', 'car', 'airplane', 'bus', 'skateboard', 'scooter (monopattino)', 'motorcycle', 'truck', 'tractor', 'subway', 'aerial tramway (funivia)', 'helicopter', 'tram', 'carriage (carrozza)', 'boat', 'train', 'van (furgone)', 'ship', 'rollerblades') ()\n"
     ]
    }
   ],
   "source": [
    "for extent, intent in c.lattice:\n",
    "    print('%r %r' % (extent, intent))"
   ]
  },
  {
   "cell_type": "code",
   "execution_count": 5,
   "id": "fca5d5c6",
   "metadata": {},
   "outputs": [
    {
     "data": {
      "text/plain": [
       "('bicycle',\n",
       " 'raft (zattera)',\n",
       " 'car',\n",
       " 'airplane',\n",
       " 'bus',\n",
       " 'skateboard',\n",
       " 'scooter (monopattino)',\n",
       " 'motorcycle',\n",
       " 'truck',\n",
       " 'tractor',\n",
       " 'subway',\n",
       " 'aerial tramway (funivia)',\n",
       " 'helicopter',\n",
       " 'tram',\n",
       " 'carriage (carrozza)',\n",
       " 'boat',\n",
       " 'train',\n",
       " 'van (furgone)',\n",
       " 'ship',\n",
       " 'rollerblades')"
      ]
     },
     "execution_count": 5,
     "metadata": {},
     "output_type": "execute_result"
    }
   ],
   "source": [
    "c.objects  # row headings"
   ]
  },
  {
   "cell_type": "code",
   "execution_count": 22,
   "id": "c25f8df2",
   "metadata": {},
   "outputs": [
    {
     "data": {
      "text/plain": [
       "('Engine',\n",
       " 'Windows',\n",
       " 'Wheels',\n",
       " 'Wings',\n",
       " 'Door',\n",
       " 'Seat',\n",
       " 'Tires',\n",
       " 'Lights',\n",
       " 'Brakes',\n",
       " 'Air Conditioning')"
      ]
     },
     "execution_count": 22,
     "metadata": {},
     "output_type": "execute_result"
    }
   ],
   "source": [
    "c.properties  # column headings"
   ]
  },
  {
   "cell_type": "code",
   "execution_count": 6,
   "id": "f28e79e7",
   "metadata": {},
   "outputs": [
    {
     "data": {
      "text/plain": [
       "('Wheels', 'Seat', 'Brakes')"
      ]
     },
     "execution_count": 6,
     "metadata": {},
     "output_type": "execute_result"
    }
   ],
   "source": [
    "c.intension(['car', 'bicycle'])"
   ]
  },
  {
   "cell_type": "code",
   "execution_count": 7,
   "id": "190e20c1",
   "metadata": {},
   "outputs": [
    {
     "data": {
      "text/plain": [
       "()"
      ]
     },
     "execution_count": 7,
     "metadata": {},
     "output_type": "execute_result"
    }
   ],
   "source": [
    "c.intension(['ship', 'skateboard'])"
   ]
  }
 ],
 "metadata": {
  "kernelspec": {
   "display_name": "Python 3 (ipykernel)",
   "language": "python",
   "name": "python3"
  },
  "language_info": {
   "codemirror_mode": {
    "name": "ipython",
    "version": 3
   },
   "file_extension": ".py",
   "mimetype": "text/x-python",
   "name": "python",
   "nbconvert_exporter": "python",
   "pygments_lexer": "ipython3",
   "version": "3.10.2"
  },
  "vscode": {
   "interpreter": {
    "hash": "110a4ad9b3b23ac6a757cfb6c77f1e39e8d0496598f07ec14a944919c025e818"
   }
  }
 },
 "nbformat": 4,
 "nbformat_minor": 5
}
